{
 "cells": [
  {
   "cell_type": "code",
   "execution_count": 2,
   "metadata": {},
   "outputs": [],
   "source": [
    "import numpy as np\n",
    "import pandas as pd\n",
    "import wfdb\n",
    "import os\n",
    "from sklearn.model_selection import train_test_split\n",
    "from matplotlib import pyplot as plt\n",
    "import seaborn as snss\n",
    "from pprint import pprint\n",
    "from tqdm import tqdm\n",
    "import sys\n",
    "sys.path.append(\"../finetune/\")\n",
    "sys.path.append(\"../utils\")"
   ]
  },
  {
   "cell_type": "code",
   "execution_count": 5,
   "metadata": {},
   "outputs": [
    {
     "name": "stderr",
     "output_type": "stream",
     "text": [
      "/tmp/ipykernel_2412740/1173065126.py:1: DtypeWarning: Columns (16,17,18) have mixed types. Specify dtype option on import or set low_memory=False.\n",
      "  df = pd.read_csv('/data1/1shared/lijun/ecg/ECGRanking/data/test_final_machine_measurements.csv')\n"
     ]
    }
   ],
   "source": [
    "df = pd.read_csv('/data1/1shared/lijun/ecg/ECGRanking/data/train_LVH_modified.csv')\n",
    "df_cleaned = df.dropna(subset=['report_all'])\n",
    "df_cleaned.to_csv('/data1/1shared/lijun/ecg/ECGRanking/data/train_LVH_modified.csv')"
   ]
  },
  {
   "cell_type": "code",
   "execution_count": 3,
   "metadata": {},
   "outputs": [
    {
     "name": "stdout",
     "output_type": "stream",
     "text": [
      "               note_id  subject_id   hadm_id note_type  note_seq  \\\n",
      "0       10000032-DS-21    10000032  22595853        DS        21   \n",
      "1       10000032-DS-22    10000032  22841357        DS        22   \n",
      "2       10000032-DS-23    10000032  29079034        DS        23   \n",
      "3       10000032-DS-24    10000032  25742920        DS        24   \n",
      "4       10000084-DS-17    10000084  23052089        DS        17   \n",
      "...                ...         ...       ...       ...       ...   \n",
      "331788   19999828-DS-6    19999828  29734428        DS         6   \n",
      "331789   19999828-DS-7    19999828  25744818        DS         7   \n",
      "331790  19999840-DS-20    19999840  26071774        DS        20   \n",
      "331791  19999840-DS-21    19999840  21033226        DS        21   \n",
      "331792   19999987-DS-2    19999987  23865745        DS         2   \n",
      "\n",
      "                  charttime            storetime  \\\n",
      "0       2180-05-07 00:00:00  2180-05-09 15:26:00   \n",
      "1       2180-06-27 00:00:00  2180-07-01 10:15:00   \n",
      "2       2180-07-25 00:00:00  2180-07-25 21:42:00   \n",
      "3       2180-08-07 00:00:00  2180-08-10 05:43:00   \n",
      "4       2160-11-25 00:00:00  2160-11-25 15:09:00   \n",
      "...                     ...                  ...   \n",
      "331788  2147-08-04 00:00:00  2147-08-12 15:36:00   \n",
      "331789  2149-01-18 00:00:00  2149-01-19 07:03:00   \n",
      "331790  2164-07-28 00:00:00  2164-07-29 14:52:00   \n",
      "331791  2164-09-17 00:00:00  2164-09-18 01:36:00   \n",
      "331792  2145-11-11 00:00:00  2145-11-11 13:13:00   \n",
      "\n",
      "                                                     text  \n",
      "0        \\nName:  ___                     Unit No:   _...  \n",
      "1        \\nName:  ___                     Unit No:   _...  \n",
      "2        \\nName:  ___                     Unit No:   _...  \n",
      "3        \\nName:  ___                     Unit No:   _...  \n",
      "4        \\nName:  ___                    Unit No:   __...  \n",
      "...                                                   ...  \n",
      "331788   \\nName:  ___                   Unit No:   ___...  \n",
      "331789   \\nName:  ___                   Unit No:   ___...  \n",
      "331790   \\nName:  ___                  Unit No:   ___\\...  \n",
      "331791   \\nName:  ___                  Unit No:   ___\\...  \n",
      "331792   \\nName:  ___                    Unit No:   __...  \n",
      "\n",
      "[331793 rows x 8 columns]\n"
     ]
    }
   ],
   "source": [
    "df_discharge = pd.read_csv('/hot_data/lijun/code/partners_ecg-master/discharge.csv')\n",
    "print(df_discharge)"
   ]
  },
  {
   "cell_type": "code",
   "execution_count": 4,
   "metadata": {},
   "outputs": [
    {
     "data": {
      "text/plain": [
       "0          \\nName:  ___                     Unit No:   _...\n",
       "1          \\nName:  ___                     Unit No:   _...\n",
       "2          \\nName:  ___                     Unit No:   _...\n",
       "3          \\nName:  ___                     Unit No:   _...\n",
       "4          \\nName:  ___                    Unit No:   __...\n",
       "                                ...                        \n",
       "331788     \\nName:  ___                   Unit No:   ___...\n",
       "331789     \\nName:  ___                   Unit No:   ___...\n",
       "331790     \\nName:  ___                  Unit No:   ___\\...\n",
       "331791     \\nName:  ___                  Unit No:   ___\\...\n",
       "331792     \\nName:  ___                    Unit No:   __...\n",
       "Name: text, Length: 331793, dtype: object"
      ]
     },
     "execution_count": 4,
     "metadata": {},
     "output_type": "execute_result"
    }
   ],
   "source": [
    "df_discharge['text']"
   ]
  },
  {
   "cell_type": "code",
   "execution_count": null,
   "metadata": {},
   "outputs": [],
   "source": []
  },
  {
   "cell_type": "code",
   "execution_count": null,
   "metadata": {},
   "outputs": [],
   "source": [
    "# set your meta path of mimic-ecg\n",
    "meta_path = 'your_path/mimic-iv-ecg-diagnostic-electrocardiogram-matched-subset-1.0'\n",
    "report_csv = pd.read_csv(f'{meta_path}/machine_measurements.csv', low_memory=False)\n",
    "record_csv = pd.read_csv(f'{meta_path}/record_list.csv', low_memory=False)"
   ]
  },
  {
   "cell_type": "code",
   "execution_count": null,
   "metadata": {},
   "outputs": [],
   "source": [
    "def process_report(row):\n",
    "    # Select the relevant columns and filter out NaNs\n",
    "    report = row[['report_0', 'report_1', 'report_2', 'report_3', 'report_4', \n",
    "                  'report_5', 'report_6', 'report_7', 'report_8', 'report_9', \n",
    "                  'report_10', 'report_11', 'report_12', 'report_13', 'report_14', \n",
    "                  'report_15', 'report_16', 'report_17']].dropna()\n",
    "    # Concatenate the report\n",
    "    report = '. '.join(report)\n",
    "    # Replace and preprocess text\n",
    "    report = report.replace('EKG', 'ECG').replace('ekg', 'ecg')\n",
    "    report = report.strip(' ***').strip('*** ').strip('***').strip('=-').strip('=')\n",
    "    # Convert to lowercase\n",
    "    report = report.lower()\n",
    "\n",
    "    # concatenate the report if the report length is not 0\n",
    "    total_report = ''\n",
    "    if len(report.split()) != 0:\n",
    "        total_report = report\n",
    "        total_report = total_report.replace('\\n', ' ')\n",
    "        total_report = total_report.replace('\\r', ' ')\n",
    "        total_report = total_report.replace('\\t', ' ')\n",
    "        total_report += '.'\n",
    "    if len(report.split()) == 0:\n",
    "        total_report = 'empty'\n",
    "    # Calculate the length of the report in words\n",
    "    return len(report.split()), total_report\n",
    "\n",
    "tqdm.pandas()\n",
    "report_csv['report_length'], report_csv['total_report'] = zip(*report_csv.progress_apply(process_report, axis=1))\n",
    "# Filter out reports with less than 4 words\n",
    "report_csv = report_csv[report_csv['report_length'] >= 4]\n",
    "\n",
    "# you should get 771693 here\n",
    "print(report_csv.shape)"
   ]
  },
  {
   "cell_type": "code",
   "execution_count": null,
   "metadata": {},
   "outputs": [],
   "source": [
    "report_csv.reset_index(drop=True, inplace=True)\n",
    "record_csv = record_csv[record_csv['study_id'].isin(report_csv['study_id'])]\n",
    "record_csv.reset_index(drop=True, inplace=True)"
   ]
  },
  {
   "cell_type": "code",
   "execution_count": null,
   "metadata": {},
   "outputs": [],
   "source": [
    "# build an empty numpy array to store the data, we use int16 to save the space\n",
    "temp_npy = np.zeros((len(record_csv), 12, 5000), dtype=np.int16)\n",
    "\n",
    "for p in tqdm(record_csv['path']):\n",
    "    # read the data\n",
    "    ecg_path = os.path.join(meta_path, p)\n",
    "    record = wfdb.rdsamp(ecg_path)[0]\n",
    "    record = record.T\n",
    "    # replace the nan with the neighbor 5 value mean\n",
    "    # detect nan in each lead\n",
    "    if np.isnan(record).sum() == 0 and np.isinf(record).sum() == 0:\n",
    "        # normalize to 0-1\n",
    "        record = (record - record.min()) / (record.max() - record.min())\n",
    "        # scale the data\n",
    "        record *= 1000\n",
    "        # convert to int16\n",
    "        record = record.astype(np.int16)\n",
    "        # store the data\n",
    "        temp_npy[record_csv[record_csv['path'] == p].index[0]] = record[:, :5000]\n",
    "\n",
    "    else:\n",
    "        if np.isinf(record).sum() == 0:\n",
    "            for i in range(record.shape[0]):\n",
    "                nan_idx = np.where(np.isnan(record[:, i]))[0]\n",
    "                for idx in nan_idx:\n",
    "                    record[idx, i] = np.mean(record[max(0, idx-6):min(idx+6, record.shape[0]), i])\n",
    "        if np.isnan(record).sum() == 0:\n",
    "            for i in range(record.shape[0]):\n",
    "                inf_idx = np.where(np.isinf(record[:, i]))[0]\n",
    "                for idx in inf_idx:\n",
    "                    record[idx, i] = np.mean(record[max(0, idx-6):min(idx+6, record.shape[0]), i])\n",
    "\n",
    "        # normalize to 0-1\n",
    "        record = (record - record.min()) / (record.max() - record.min())\n",
    "        # scale the data\n",
    "        record *= 1000\n",
    "        # convert to int16\n",
    "        record = record.astype(np.int16)\n",
    "        # store the data\n",
    "        temp_npy[record_csv[record_csv['path'] == p].index[0]] = record[:, :5000]"
   ]
  },
  {
   "cell_type": "code",
   "execution_count": null,
   "metadata": {},
   "outputs": [],
   "source": [
    "# split to train and val\n",
    "train_npy, train_csv, val_npy, val_csv = train_test_split(temp_npy, report_csv, test_size=0.02, random_state=42)\n",
    "\n",
    "train_csv.reset_index(drop=True, inplace=True)\n",
    "val_csv.reset_index(drop=True, inplace=True)\n",
    "\n",
    "# save to your path\n",
    "np.save(\"your_path_train.npy\", train_npy)\n",
    "np.save(\"your_path_val.npy\", val_npy)\n",
    "train_csv.to_csv(\"your_path_train.csv\", index=False)\n",
    "val_csv.to_csv(\"your_path_val.csv\", index=False)"
   ]
  }
 ],
 "metadata": {
  "kernelspec": {
   "display_name": "chen",
   "language": "python",
   "name": "python3"
  },
  "language_info": {
   "codemirror_mode": {
    "name": "ipython",
    "version": 3
   },
   "file_extension": ".py",
   "mimetype": "text/x-python",
   "name": "python",
   "nbconvert_exporter": "python",
   "pygments_lexer": "ipython3",
   "version": "3.10.14"
  }
 },
 "nbformat": 4,
 "nbformat_minor": 2
}
